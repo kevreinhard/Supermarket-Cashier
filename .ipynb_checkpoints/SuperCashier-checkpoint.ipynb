{
 "cells": [
  {
   "cell_type": "code",
   "execution_count": 1,
   "id": "37a7dbf1-2e2b-4f81-94e1-2e9f3f9fd623",
   "metadata": {},
   "outputs": [],
   "source": [
    "''' \n",
    "\n",
    "This code represents a class to provide transactional cashier system in a supermarket.\n",
    "There are several necessary libraries such as datetime, pandas, psycopg, sqlalchemy.\n",
    "Pandas is used to make data tabulation easier\n",
    "psycopg2 and sqlalchemy are libraries to make connection/interaction with database\n",
    "Kindly install these libraries to proceed\n",
    "\n",
    "'''\n",
    "#Import libraries\n",
    "from datetime import datetime\n",
    "import pandas as pd\n",
    "import psycopg2\n",
    "from sqlalchemy import create_engine\n",
    "#from urllib.parse import quote \n",
    "\n",
    "class Transaction():\n",
    "    '''\n",
    "    Transaction class contains every method to perform transactional cashier system.\n",
    "    Each transaction must be represented by an object, for example\n",
    "    \n",
    "    trx_1 = Transaction()\n",
    "    This means that we have created object \"trx_1\" out of Transaction() class.\n",
    "    total_transactions is a counter of how much transactions held\n",
    "    \n",
    "    '''\n",
    "    \n",
    "    total_transactions = 0\n",
    "    \n",
    "    def __init__(self):\n",
    "        ''' Inits all inherent attributes for an object made out of Transaction class'''\n",
    "        self.product = {}\n",
    "        Transaction.total_transactions += 1\n",
    "        self.transaction_number = Transaction.total_transactions\n",
    "        self.time = datetime.now().strftime(\"%A, %d %B %Y %H:%M:%S\")\n",
    "        print(f\"Welcome to Andi's Supermarket! This is Transaction number {self.transaction_number} of your purchase on {self.time}\")\n",
    "        \n",
    "    def add_product(self, product_name, product_qty, product_price):\n",
    "        '''Add a key-value pair to item dictonary with product_name as a key,\n",
    "            and list containing product_qty and product_price as value.\n",
    "        Examples:\n",
    "            >>> trx_1 = Transaction()\n",
    "            \n",
    "            >>> t1.add_item('Ketoprak', 3, 60000)\n",
    "            You have succesfully added 3 ketoprak to the cart!\n",
    "            {'ketoprak': [3, 20000]}\n",
    "            \n",
    "            >>> trx_1.add_product('Bakso',2,15000)\n",
    "            You have succesfully added 2 bakso to the cart!\n",
    "            {'ketoprak': [3, 20000], 'bakso': [2, 15000]}\n",
    "            \n",
    "        Args:\n",
    "            product_name (str): Ordered product name\n",
    "            product_qty (int): Ordered product qty\n",
    "            product_price (int): Ordered product price (per pcs)\n",
    "            \n",
    "        Returns:\n",
    "            product (dict): Dictionary with this format\n",
    "                (product_name:[product_qty, product_price]).\n",
    "                All product name is formatted to lower case and strip (no space between words)\n",
    "        '''\n",
    "        try:\n",
    "            product_name = product_name.lower().replace('_',' ').strip()\n",
    "            product_qty = int(product_qty)\n",
    "            product_price = int(product_price)\n",
    "            self.product[product_name] = []\n",
    "            self.product[product_name].append(product_qty)\n",
    "            self.product[product_name].append(product_price)\n",
    "            print(f\"You have succesfully added {product_qty} {product_name} to the cart!\")\n",
    "            return self.product\n",
    "        except (ValueError, AttributeError, NameError):\n",
    "            print('Kindly recheck your orders! Please input the proper format')\n",
    "        \n",
    "    def update_product_name(self, product_name, update_product_name):\n",
    "        '''Changing dictionary key (product_name)\n",
    "        Examples:\n",
    "            >>> trx_1 = Transaction()\n",
    "            \n",
    "            >>> t1.add_item('Ketoprak', 3, 60000)\n",
    "            You have succesfully added 3 ketoprak to the cart!\n",
    "            {'ketoprak': [3, 20000]}\n",
    "            \n",
    "            >>> trx_1.add_product('Bakso',2,15000)\n",
    "            You have succesfully added 2 bakso to the cart!\n",
    "            {'ketoprak': [3, 20000], 'bakso': [2, 15000]}\n",
    "            \n",
    "            >>> trx_1.update_product_name('Ketoprak','kentang')\n",
    "            You have succesfully changed ketoprak to kentang!\n",
    "            {'bakso': [2, 15000], 'kentang': [3, 20000]}\n",
    "        Args:\n",
    "            product_name (str): Product key/name which need to be changed\n",
    "            update_product_name (str): The new product name\n",
    "            \n",
    "        Returns:\n",
    "            product (dict): Updated dictionary\n",
    "            (update_product_name:[product_qty, product_price]).\n",
    "                \n",
    "        '''\n",
    "        try:\n",
    "            product_name = product_name.lower().replace('_',' ').strip()\n",
    "            update_product_name = update_product_name.lower().replace('_',' ').strip()\n",
    "            self.product[update_product_name] = self.product.pop(product_name)\n",
    "            print(f\"You have succesfully changed {product_name} to {update_product_name}!\")\n",
    "            return self.product\n",
    "        except KeyError:\n",
    "            print(f'You have not put {product_name} into your transactions. Please check again!')\n",
    "    \n",
    "    def update_product_qty(self, product_name, update_product_qty):\n",
    "        '''\n",
    "        Changing dictionary value (product_qty)\n",
    "        Examples:\n",
    "            >>> trx_1 = Transaction()\n",
    "            \n",
    "            >>> t1.add_item('Ketoprak', 3, 60000)\n",
    "            You have succesfully added 3 ketoprak to the cart!\n",
    "            {'ketoprak': [3, 20000]}\n",
    "            \n",
    "            >>> trx_1.add_product('Bakso',2,15000)\n",
    "            You have succesfully added 2 bakso to the cart!\n",
    "            {'ketoprak': [3, 20000], 'bakso': [2, 15000]}\n",
    "            \n",
    "            >>> trx_1.update_product_name('Ketoprak','kentang')\n",
    "            You have succesfully changed ketoprak to kentang!\n",
    "            {'bakso': [2, 15000], 'kentang': [3, 20000]}\n",
    "            \n",
    "            >>> trx_1.update_product_qty('kentang',5)\n",
    "            kentang quantities has successfully updated\n",
    "            {'bakso': [2, 15000], 'kentang': [5, 20000]}\n",
    "            \n",
    "        Args:\n",
    "            product_name (str): Product key/name which need to be changed\n",
    "            update_product_qty (str): The new product quantity\n",
    "            \n",
    "        Returns:\n",
    "            product (dict): Updated dictionary\n",
    "            (product_name:[update_product_qty, product_price]).\n",
    "    \n",
    "        '''\n",
    "        try:\n",
    "            product_name = product_name.lower().replace('_',' ').strip()\n",
    "            update_product_qty = int(update_product_qty)\n",
    "            self.product[product_name][0] = update_product_qty\n",
    "            print(f'{product_name} quantities has successfully updated')\n",
    "            return self.product\n",
    "        except (TypeError, ValueError, NameError):\n",
    "            print('Please check again your inputs!')\n",
    "        except KeyError:\n",
    "            print('The item that you want to change is not available')\n",
    "    \n",
    "    def update_product_price(self, product_name, update_product_price):\n",
    "        '''\n",
    "        Changing dictionary value (product_price)\n",
    "        Examples:\n",
    "            >>> trx_1 = Transaction()\n",
    "            >>> t1.add_item('Ketoprak', 3, 60000)\n",
    "            You have succesfully added 3 ketoprak to the cart!\n",
    "            {'ketoprak': [3, 20000]}\n",
    "            \n",
    "            >>> trx_1.add_product('Bakso',2,15000)\n",
    "            You have succesfully added 2 bakso to the cart!\n",
    "            {'ketoprak': [3, 20000], 'bakso': [2, 15000]}\n",
    "            \n",
    "            >>> trx_1.update_product_name('Ketoprak','kentang')\n",
    "            You have succesfully changed ketoprak to kentang!\n",
    "            {'bakso': [2, 15000], 'kentang': [3, 20000]}\n",
    "            \n",
    "            >>> trx_1.update_product_qty('kentang',5)\n",
    "            kentang quantities has successfully updated\n",
    "            {'bakso': [2, 15000], 'kentang': [5, 20000]}\n",
    "            \n",
    "            >>> trx_1.update_product_price('Bakso',25000)\n",
    "            bakso price has been changed to 25000\n",
    "            {'bakso': [2, 25000], 'kentang': [5, 20000]}\n",
    "            \n",
    "        Args:\n",
    "            product_name (str): Product key/name which need to be changed\n",
    "            update_product_price (str): The new product price\n",
    "            \n",
    "        Returns:\n",
    "            product (dict): Updated dictionary\n",
    "            (product_name:[product_qty, update_product_price]).\n",
    "    \n",
    "        ''' \n",
    "        try:\n",
    "            product_name = product_name.lower().replace('_',' ').strip()\n",
    "            update_product_price = int(update_product_price)\n",
    "            self.product[product_name][1] = update_product_price\n",
    "            print(f'{product_name} price has been changed to {update_product_price}')\n",
    "            return self.product\n",
    "        except (TypeError, ValueError, NameError):\n",
    "            print('Please check again your inputs!')\n",
    "        except KeyError:\n",
    "            print('The item that you want to change is not available')\n",
    "    \n",
    "    def delete_product(self, product_name):\n",
    "        '''\n",
    "        Remove a key-value pair in product dictionary\n",
    "        Examples:\n",
    "            >>> trx_1 = Transaction()\n",
    "            >>> t1.add_item('Ketoprak', 3, 60000)\n",
    "            You have succesfully added 3 ketoprak to the cart!\n",
    "            {'ketoprak': [3, 20000]}\n",
    "            \n",
    "            >>> trx_1.add_product('Bakso',2,15000)\n",
    "            You have succesfully added 2 bakso to the cart!\n",
    "            {'ketoprak': [3, 20000], 'bakso': [2, 15000]}\n",
    "            \n",
    "            >>> trx_1.update_product_name('Ketoprak','kentang')\n",
    "            You have succesfully changed ketoprak to kentang!\n",
    "            {'bakso': [2, 15000], 'kentang': [3, 20000]}\n",
    "            \n",
    "            >>> trx_1.update_product_qty('kentang',5)\n",
    "            kentang quantities has successfully updated\n",
    "            {'bakso': [2, 15000], 'kentang': [5, 20000]}\n",
    "            \n",
    "            >>> trx_1.update_product_price('Bakso',25000)\n",
    "            bakso price has been changed to 25000\n",
    "            {'bakso': [2, 25000], 'kentang': [5, 20000]}\n",
    "            \n",
    "            >>> trx_1.delete_product('kentang')\n",
    "            kentang has been deleted\n",
    "            {'bakso': [2, 25000]}\n",
    "            \n",
    "        Args:\n",
    "            product_name (str): Product key/name which need to be deleted\n",
    "            \n",
    "        Returns:\n",
    "            product (dict): Updated dictionary of the deleted product\n",
    "    \n",
    "        ''' \n",
    "        try:\n",
    "            product_name = product_name.lower().replace('_',' ').strip()\n",
    "            del self.product[product_name]\n",
    "            print(f'{product_name} has been deleted')\n",
    "            return self.product\n",
    "        except KeyError:\n",
    "            print('The product that you want to delete does not exist!')\n",
    "    \n",
    "    def reset_transaction(self, param1=None):\n",
    "        '''\n",
    "        Reset all products that have been appended on the Product dictionary\n",
    "        Examples:\n",
    "            >>> trx_1 = Transaction()\n",
    "            >>> t1.add_item('Ketoprak', 3, 60000)\n",
    "            You have succesfully added 3 ketoprak to the cart!\n",
    "            {'ketoprak': [3, 20000]}\n",
    "            \n",
    "            >>> trx_1.add_product('Bakso',2,15000)\n",
    "            You have succesfully added 2 bakso to the cart!\n",
    "            {'ketoprak': [3, 20000], 'bakso': [2, 15000]}\n",
    "            \n",
    "            >>> trx_1.update_product_name('Ketoprak','kentang')\n",
    "            You have succesfully changed ketoprak to kentang!\n",
    "            {'bakso': [2, 15000], 'kentang': [3, 20000]}\n",
    "            \n",
    "            >>> trx_1.update_product_qty('kentang',5)\n",
    "            kentang quantities has successfully updated\n",
    "            {'bakso': [2, 15000], 'kentang': [5, 20000]}\n",
    "            \n",
    "            >>> trx_1.update_product_price('Bakso',25000)\n",
    "            bakso price has been changed to 25000\n",
    "            {'bakso': [2, 25000], 'kentang': [5, 20000]}\n",
    "            \n",
    "            >>> trx_1.reset_transaction()\n",
    "            All products has been deleted\n",
    "            {}\n",
    "            \n",
    "        Args: None\n",
    "            \n",
    "        Returns: \n",
    "            product = {} (Empty dictionary)\n",
    "    \n",
    "        ''' \n",
    "        self.product={}\n",
    "        Transaction.total_transactions -= 1\n",
    "        print('All products has been deleted')\n",
    "        print(self.product)\n",
    "        \n",
    "    def check_order(self, param1=None):\n",
    "        '''\n",
    "        Convert the Product dictionary into a table\n",
    "        \n",
    "        Args: None\n",
    "        \n",
    "        Returns: df (dataframe) --> A tabulate data which contains Product, Quantity, Price, Total Price column\n",
    "        \n",
    "        '''\n",
    "        try:\n",
    "            dict_list = [{'Product': key, 'Quantity': val[0], 'Price': val[1], 'Total Price': val[0]*val[1]} for key, val in self.product.items()]\n",
    "            self.df = pd.DataFrame(dict_list)\n",
    "            print(\"Your transactions are ready below. Please check again!\\n\")\n",
    "            print(self.df)\n",
    "        except ValueError:\n",
    "            print('Your transaction list is empty')\n",
    "    \n",
    "    def checkout(self, param1=None):\n",
    "        '''\n",
    "        Calculate final price of the products after discount adjustment on certain conditions\n",
    "        \n",
    "        Args: None\n",
    "        \n",
    "        Returns: \n",
    "            Final Price = Sum of Final_Price column on the Dataframe (df) as Final Price\n",
    "            \n",
    "            Transaction table =  Return a table consists of Product, Quantity, Price, Total_Price, Discount, Final_Price\n",
    "        \n",
    "        '''\n",
    "        def calculate_discount(price):\n",
    "            if price > 500_000:\n",
    "                return 0.07 * price\n",
    "            elif price > 300_000:\n",
    "                return 0.06 * price\n",
    "            elif price > 200_000:\n",
    "                return 0.05 * price\n",
    "            else:\n",
    "                return 0\n",
    "            \n",
    "        try:\n",
    "            self.df['Discount'] = self.df['Total Price'].apply(calculate_discount)\n",
    "            self.df['Final_Price'] = self.df['Total Price'] - self.df['Discount']\n",
    "            print(f\"Your final price for this transaction is {self.df['Final_Price'].sum()}\\n\")\n",
    "            print(self.df)\n",
    "            \n",
    "            conn_string = 'connection_string' #classified\n",
    "            db = create_engine(conn_string)\n",
    "            conn = db.connect()\n",
    "            self.df.to_sql(name='andi_cashier', schema='public', con=conn, if_exists='replace', index=False)\n",
    "            conn = psycopg2.connect(conn_string)\n",
    "            conn.autocommit = True\n",
    "            cursor = conn.cursor()\n",
    "            \n",
    "        except (ValueError, AttributeError):\n",
    "            print('Your transaction list is empty!')"
   ]
  },
  {
   "cell_type": "code",
   "execution_count": 11,
   "id": "37d18434",
   "metadata": {},
   "outputs": [
    {
     "name": "stdout",
     "output_type": "stream",
     "text": [
      "Welcome to Andi's Supermarket! This is Transaction number 2 of your purchase on Tuesday, 23 May 2023 15:42:33\n"
     ]
    }
   ],
   "source": [
    "trx_1 = Transaction()"
   ]
  },
  {
   "cell_type": "code",
   "execution_count": 12,
   "id": "bee8407f",
   "metadata": {},
   "outputs": [
    {
     "name": "stdout",
     "output_type": "stream",
     "text": [
      "You have succesfully added 2 ayam goreng to the cart!\n"
     ]
    },
    {
     "data": {
      "text/plain": [
       "{'ayam goreng': [2, 20000]}"
      ]
     },
     "execution_count": 12,
     "metadata": {},
     "output_type": "execute_result"
    }
   ],
   "source": [
    "trx_1.add_product('Ayam Goreng', 2, 20000)"
   ]
  },
  {
   "cell_type": "code",
   "execution_count": 13,
   "id": "d78f5d83",
   "metadata": {},
   "outputs": [
    {
     "name": "stdout",
     "output_type": "stream",
     "text": [
      "You have succesfully added 3 pasta gigi to the cart!\n"
     ]
    },
    {
     "data": {
      "text/plain": [
       "{'ayam goreng': [2, 20000], 'pasta gigi': [3, 15000]}"
      ]
     },
     "execution_count": 13,
     "metadata": {},
     "output_type": "execute_result"
    }
   ],
   "source": [
    "trx_1.add_product('Pasta Gigi', 3, 15000)"
   ]
  },
  {
   "cell_type": "code",
   "execution_count": 14,
   "id": "03b44f71",
   "metadata": {},
   "outputs": [
    {
     "name": "stdout",
     "output_type": "stream",
     "text": [
      "You have succesfully added 1 mainan mobil to the cart!\n"
     ]
    },
    {
     "data": {
      "text/plain": [
       "{'ayam goreng': [2, 20000],\n",
       " 'pasta gigi': [3, 15000],\n",
       " 'mainan mobil': [1, 200000]}"
      ]
     },
     "execution_count": 14,
     "metadata": {},
     "output_type": "execute_result"
    }
   ],
   "source": [
    "trx_1.add_product('Mainan Mobil', 1, 200000)"
   ]
  },
  {
   "cell_type": "code",
   "execution_count": 15,
   "id": "f54ed893",
   "metadata": {},
   "outputs": [
    {
     "name": "stdout",
     "output_type": "stream",
     "text": [
      "You have succesfully added 5 mi instan to the cart!\n"
     ]
    },
    {
     "data": {
      "text/plain": [
       "{'ayam goreng': [2, 20000],\n",
       " 'pasta gigi': [3, 15000],\n",
       " 'mainan mobil': [1, 200000],\n",
       " 'mi instan': [5, 3000]}"
      ]
     },
     "execution_count": 15,
     "metadata": {},
     "output_type": "execute_result"
    }
   ],
   "source": [
    "trx_1.add_product('Mi Instan', 5, 3000)"
   ]
  },
  {
   "cell_type": "code",
   "execution_count": 17,
   "id": "c7397137",
   "metadata": {},
   "outputs": [
    {
     "name": "stdout",
     "output_type": "stream",
     "text": [
      "Your transactions are ready below. Please check again!\n",
      "\n",
      "        Product  Quantity   Price  Total Price\n",
      "0   ayam goreng         2   20000        40000\n",
      "1    pasta gigi         3   15000        45000\n",
      "2  mainan mobil         1  200000       200000\n",
      "3     mi instan         5    3000        15000\n"
     ]
    }
   ],
   "source": [
    "trx_1.check_order()"
   ]
  },
  {
   "cell_type": "code",
   "execution_count": 18,
   "id": "2e459f3e",
   "metadata": {},
   "outputs": [
    {
     "name": "stdout",
     "output_type": "stream",
     "text": [
      "Your final price for this transaction is 300000\n",
      "\n",
      "        Product  Quantity   Price  Total Price  Discount  Final_Price\n",
      "0   ayam goreng         2   20000        40000         0        40000\n",
      "1    pasta gigi         3   15000        45000         0        45000\n",
      "2  mainan mobil         1  200000       200000         0       200000\n",
      "3     mi instan         5    3000        15000         0        15000\n"
     ]
    },
    {
     "ename": "ArgumentError",
     "evalue": "Could not parse rfc1738 URL from string 'connection_string'",
     "output_type": "error",
     "traceback": [
      "\u001b[1;31m---------------------------------------------------------------------------\u001b[0m",
      "\u001b[1;31mArgumentError\u001b[0m                             Traceback (most recent call last)",
      "Input \u001b[1;32mIn [18]\u001b[0m, in \u001b[0;36m<cell line: 1>\u001b[1;34m()\u001b[0m\n\u001b[1;32m----> 1\u001b[0m \u001b[43mtrx_1\u001b[49m\u001b[38;5;241;43m.\u001b[39;49m\u001b[43mcheckout\u001b[49m\u001b[43m(\u001b[49m\u001b[43m)\u001b[49m\n",
      "Input \u001b[1;32mIn [1]\u001b[0m, in \u001b[0;36mTransaction.checkout\u001b[1;34m(self, param1)\u001b[0m\n\u001b[0;32m    322\u001b[0m \u001b[38;5;28mprint\u001b[39m(\u001b[38;5;28mself\u001b[39m\u001b[38;5;241m.\u001b[39mdf)\n\u001b[0;32m    324\u001b[0m conn_string \u001b[38;5;241m=\u001b[39m \u001b[38;5;124m'\u001b[39m\u001b[38;5;124mconnection_string\u001b[39m\u001b[38;5;124m'\u001b[39m \u001b[38;5;66;03m#classified\u001b[39;00m\n\u001b[1;32m--> 325\u001b[0m db \u001b[38;5;241m=\u001b[39m \u001b[43mcreate_engine\u001b[49m\u001b[43m(\u001b[49m\u001b[43mconn_string\u001b[49m\u001b[43m)\u001b[49m\n\u001b[0;32m    326\u001b[0m conn \u001b[38;5;241m=\u001b[39m db\u001b[38;5;241m.\u001b[39mconnect()\n\u001b[0;32m    327\u001b[0m \u001b[38;5;28mself\u001b[39m\u001b[38;5;241m.\u001b[39mdf\u001b[38;5;241m.\u001b[39mto_sql(name\u001b[38;5;241m=\u001b[39m\u001b[38;5;124m'\u001b[39m\u001b[38;5;124mandi_cashier\u001b[39m\u001b[38;5;124m'\u001b[39m, schema\u001b[38;5;241m=\u001b[39m\u001b[38;5;124m'\u001b[39m\u001b[38;5;124mpublic\u001b[39m\u001b[38;5;124m'\u001b[39m, con\u001b[38;5;241m=\u001b[39mconn, if_exists\u001b[38;5;241m=\u001b[39m\u001b[38;5;124m'\u001b[39m\u001b[38;5;124mreplace\u001b[39m\u001b[38;5;124m'\u001b[39m, index\u001b[38;5;241m=\u001b[39m\u001b[38;5;28;01mFalse\u001b[39;00m)\n",
      "File \u001b[1;32m<string>:2\u001b[0m, in \u001b[0;36mcreate_engine\u001b[1;34m(url, **kwargs)\u001b[0m\n",
      "File \u001b[1;32mC:\\ProgramData\\Anaconda3\\lib\\site-packages\\sqlalchemy\\util\\deprecations.py:309\u001b[0m, in \u001b[0;36mdeprecated_params.<locals>.decorate.<locals>.warned\u001b[1;34m(fn, *args, **kwargs)\u001b[0m\n\u001b[0;32m    302\u001b[0m     \u001b[38;5;28;01mif\u001b[39;00m m \u001b[38;5;129;01min\u001b[39;00m kwargs:\n\u001b[0;32m    303\u001b[0m         _warn_with_version(\n\u001b[0;32m    304\u001b[0m             messages[m],\n\u001b[0;32m    305\u001b[0m             versions[m],\n\u001b[0;32m    306\u001b[0m             version_warnings[m],\n\u001b[0;32m    307\u001b[0m             stacklevel\u001b[38;5;241m=\u001b[39m\u001b[38;5;241m3\u001b[39m,\n\u001b[0;32m    308\u001b[0m         )\n\u001b[1;32m--> 309\u001b[0m \u001b[38;5;28;01mreturn\u001b[39;00m fn(\u001b[38;5;241m*\u001b[39margs, \u001b[38;5;241m*\u001b[39m\u001b[38;5;241m*\u001b[39mkwargs)\n",
      "File \u001b[1;32mC:\\ProgramData\\Anaconda3\\lib\\site-packages\\sqlalchemy\\engine\\create.py:530\u001b[0m, in \u001b[0;36mcreate_engine\u001b[1;34m(url, **kwargs)\u001b[0m\n\u001b[0;32m    527\u001b[0m kwargs\u001b[38;5;241m.\u001b[39mpop(\u001b[38;5;124m\"\u001b[39m\u001b[38;5;124mempty_in_strategy\u001b[39m\u001b[38;5;124m\"\u001b[39m, \u001b[38;5;28;01mNone\u001b[39;00m)\n\u001b[0;32m    529\u001b[0m \u001b[38;5;66;03m# create url.URL object\u001b[39;00m\n\u001b[1;32m--> 530\u001b[0m u \u001b[38;5;241m=\u001b[39m \u001b[43m_url\u001b[49m\u001b[38;5;241;43m.\u001b[39;49m\u001b[43mmake_url\u001b[49m\u001b[43m(\u001b[49m\u001b[43murl\u001b[49m\u001b[43m)\u001b[49m\n\u001b[0;32m    532\u001b[0m u, plugins, kwargs \u001b[38;5;241m=\u001b[39m u\u001b[38;5;241m.\u001b[39m_instantiate_plugins(kwargs)\n\u001b[0;32m    534\u001b[0m entrypoint \u001b[38;5;241m=\u001b[39m u\u001b[38;5;241m.\u001b[39m_get_entrypoint()\n",
      "File \u001b[1;32mC:\\ProgramData\\Anaconda3\\lib\\site-packages\\sqlalchemy\\engine\\url.py:731\u001b[0m, in \u001b[0;36mmake_url\u001b[1;34m(name_or_url)\u001b[0m\n\u001b[0;32m    724\u001b[0m \u001b[38;5;124;03m\"\"\"Given a string or unicode instance, produce a new URL instance.\u001b[39;00m\n\u001b[0;32m    725\u001b[0m \n\u001b[0;32m    726\u001b[0m \u001b[38;5;124;03mThe given string is parsed according to the RFC 1738 spec.  If an\u001b[39;00m\n\u001b[0;32m    727\u001b[0m \u001b[38;5;124;03mexisting URL object is passed, just returns the object.\u001b[39;00m\n\u001b[0;32m    728\u001b[0m \u001b[38;5;124;03m\"\"\"\u001b[39;00m\n\u001b[0;32m    730\u001b[0m \u001b[38;5;28;01mif\u001b[39;00m \u001b[38;5;28misinstance\u001b[39m(name_or_url, util\u001b[38;5;241m.\u001b[39mstring_types):\n\u001b[1;32m--> 731\u001b[0m     \u001b[38;5;28;01mreturn\u001b[39;00m \u001b[43m_parse_rfc1738_args\u001b[49m\u001b[43m(\u001b[49m\u001b[43mname_or_url\u001b[49m\u001b[43m)\u001b[49m\n\u001b[0;32m    732\u001b[0m \u001b[38;5;28;01melse\u001b[39;00m:\n\u001b[0;32m    733\u001b[0m     \u001b[38;5;28;01mreturn\u001b[39;00m name_or_url\n",
      "File \u001b[1;32mC:\\ProgramData\\Anaconda3\\lib\\site-packages\\sqlalchemy\\engine\\url.py:792\u001b[0m, in \u001b[0;36m_parse_rfc1738_args\u001b[1;34m(name)\u001b[0m\n\u001b[0;32m    789\u001b[0m     \u001b[38;5;28;01mreturn\u001b[39;00m URL\u001b[38;5;241m.\u001b[39mcreate(name, \u001b[38;5;241m*\u001b[39m\u001b[38;5;241m*\u001b[39mcomponents)\n\u001b[0;32m    791\u001b[0m \u001b[38;5;28;01melse\u001b[39;00m:\n\u001b[1;32m--> 792\u001b[0m     \u001b[38;5;28;01mraise\u001b[39;00m exc\u001b[38;5;241m.\u001b[39mArgumentError(\n\u001b[0;32m    793\u001b[0m         \u001b[38;5;124m\"\u001b[39m\u001b[38;5;124mCould not parse rfc1738 URL from string \u001b[39m\u001b[38;5;124m'\u001b[39m\u001b[38;5;132;01m%s\u001b[39;00m\u001b[38;5;124m'\u001b[39m\u001b[38;5;124m\"\u001b[39m \u001b[38;5;241m%\u001b[39m name\n\u001b[0;32m    794\u001b[0m     )\n",
      "\u001b[1;31mArgumentError\u001b[0m: Could not parse rfc1738 URL from string 'connection_string'"
     ]
    }
   ],
   "source": [
    "trx_1.checkout()"
   ]
  },
  {
   "cell_type": "code",
   "execution_count": null,
   "id": "7c039bcd",
   "metadata": {},
   "outputs": [],
   "source": []
  }
 ],
 "metadata": {
  "kernelspec": {
   "display_name": "Python 3 (ipykernel)",
   "language": "python",
   "name": "python3"
  },
  "language_info": {
   "codemirror_mode": {
    "name": "ipython",
    "version": 3
   },
   "file_extension": ".py",
   "mimetype": "text/x-python",
   "name": "python",
   "nbconvert_exporter": "python",
   "pygments_lexer": "ipython3",
   "version": "3.9.12"
  }
 },
 "nbformat": 4,
 "nbformat_minor": 5
}
